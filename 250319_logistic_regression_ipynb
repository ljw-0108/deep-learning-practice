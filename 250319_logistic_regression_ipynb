{
  "cells": [
    {
      "cell_type": "markdown",
      "metadata": {
        "id": "view-in-github",
        "colab_type": "text"
      },
      "source": [
        "<a href=\"https://colab.research.google.com/github/ljw-0108/deep-learning-practice/blob/main/250319_logistic_regression_ipynb\" target=\"_parent\"><img src=\"https://colab.research.google.com/assets/colab-badge.svg\" alt=\"Open In Colab\"/></a>"
      ]
    },
    {
      "cell_type": "markdown",
      "id": "14f3d9bb",
      "metadata": {
        "id": "14f3d9bb"
      },
      "source": [
        "# 6장. 로지스틱 회귀 모델: 참 거짓 판단하기"
      ]
    },
    {
      "cell_type": "markdown",
      "id": "31aa0af8",
      "metadata": {
        "id": "31aa0af8"
      },
      "source": [
        "## 5. 텐서플로에서 실행하는 로지스틱 회귀 모델"
      ]
    },
    {
      "cell_type": "markdown",
      "id": "3bd0ceed",
      "metadata": {
        "id": "3bd0ceed"
      },
      "source": [
        "### 1.환경 준비"
      ]
    },
    {
      "cell_type": "code",
      "execution_count": 1,
      "id": "38ce6ac5",
      "metadata": {
        "id": "38ce6ac5"
      },
      "outputs": [],
      "source": [
        "import numpy as np\n",
        "import matplotlib.pyplot as plt\n",
        "from tensorflow.keras.models import Sequential\n",
        "from tensorflow.keras.layers import Dense"
      ]
    },
    {
      "cell_type": "markdown",
      "id": "00f9c412",
      "metadata": {
        "id": "00f9c412"
      },
      "source": [
        "### 2. 데이터 준비"
      ]
    },
    {
      "cell_type": "code",
      "execution_count": 2,
      "id": "92e915e0",
      "metadata": {
        "id": "92e915e0"
      },
      "outputs": [],
      "source": [
        "x = np.array([2, 4, 6, 8, 10, 12, 14])\n",
        "y = np.array([0, 0, 0, 1, 1, 1, 1])"
      ]
    },
    {
      "cell_type": "markdown",
      "id": "605e6ad0",
      "metadata": {
        "id": "605e6ad0"
      },
      "source": [
        "### 3. 모델 실행"
      ]
    },
    {
      "cell_type": "code",
      "execution_count": 4,
      "id": "f2735f67",
      "metadata": {
        "id": "f2735f67",
        "outputId": "31a3108e-edb1-444f-bbd4-70905f3cd8f7",
        "colab": {
          "base_uri": "https://localhost:8080/"
        }
      },
      "outputs": [
        {
          "output_type": "stream",
          "name": "stderr",
          "text": [
            "/usr/local/lib/python3.11/dist-packages/keras/src/layers/core/dense.py:87: UserWarning: Do not pass an `input_shape`/`input_dim` argument to a layer. When using Sequential models, prefer using an `Input(shape)` object as the first layer in the model instead.\n",
            "  super().__init__(activity_regularizer=activity_regularizer, **kwargs)\n"
          ]
        },
        {
          "output_type": "execute_result",
          "data": {
            "text/plain": [
              "<keras.src.callbacks.history.History at 0x7e6673720e10>"
            ]
          },
          "metadata": {},
          "execution_count": 4
        }
      ],
      "source": [
        "model = Sequential()\n",
        "model.add(Dense(1, input_dim=1, activation='sigmoid'))\n",
        "\n",
        "# 교차 엔트로피 오차 함수를 이용하기 위하여 'binary_crossentropy'로 설정합니다.\n",
        "model.compile(optimizer='sgd' ,loss='binary_crossentropy')\n",
        "model.fit(x, y, epochs=100, verbose=0)  #verbose=1 진행 화면 출력, verbose=0 진행 화면 출력 안함."
      ]
    },
    {
      "cell_type": "markdown",
      "id": "514ecfcd",
      "metadata": {
        "id": "514ecfcd"
      },
      "source": [
        "### 4. 모델 테스트"
      ]
    },
    {
      "cell_type": "code",
      "execution_count": 5,
      "id": "669c2350",
      "metadata": {
        "id": "669c2350",
        "outputId": "fab7205c-6c42-464b-afe1-7b3c083ea2a5",
        "colab": {
          "base_uri": "https://localhost:8080/",
          "height": 447
        }
      },
      "outputs": [
        {
          "output_type": "stream",
          "name": "stdout",
          "text": [
            "\u001b[1m1/1\u001b[0m \u001b[32m━━━━━━━━━━━━━━━━━━━━\u001b[0m\u001b[37m\u001b[0m \u001b[1m0s\u001b[0m 57ms/step\n"
          ]
        },
        {
          "output_type": "display_data",
          "data": {
            "text/plain": [
              "<Figure size 640x480 with 1 Axes>"
            ],
            "image/png": "[encoded data removed]"
          },
          "metadata": {}
        }
      ],
      "source": [
        "# 그래프로 확인해 봅니다.\n",
        "\n",
        "plt.scatter(x, y)\n",
        "plt.plot(x, model.predict(x),'r')\n",
        "plt.show()"
      ]
    },
    {
      "cell_type": "code",
      "execution_count": 6,
      "id": "e4b6209f",
      "metadata": {
        "id": "e4b6209f",
        "outputId": "de8240ac-af03-44a6-ec37-6766f9633f44",
        "colab": {
          "base_uri": "https://localhost:8080/"
        }
      },
      "outputs": [
        {
          "output_type": "stream",
          "name": "stdout",
          "text": [
            "\u001b[1m1/1\u001b[0m \u001b[32m━━━━━━━━━━━━━━━━━━━━\u001b[0m\u001b[37m\u001b[0m \u001b[1m0s\u001b[0m 65ms/step\n",
            "7시간을 공부할 경우, 합격 예상 확률은 73.4%입니다\n"
          ]
        }
      ],
      "source": [
        "import tensorflow as tf\n",
        "\n",
        "# 임의의 학습 시간을 집어넣어 합격 예상 확률을 예측해 보겠습니다.\n",
        "\n",
        "hour = 7\n",
        "#prediction = model.predict([hour]) #텐서플로 2.9.0 까지만 가능\n",
        "\n",
        "input_data = tf.constant([[hour]])\n",
        "prediction = model.predict(input_data)[0][0]\n",
        "\n",
        "\n",
        "print(\"%.f시간을 공부할 경우, 합격 예상 확률은 %.01f%%입니다\" % (hour, prediction * 100))"
      ]
    },
    {
      "cell_type": "markdown",
      "source": [
        "# 실습 문제\n",
        "\n",
        "epoch, loss type 등을 바꿔서 실행해보고 결과를 비교 후 이유를 적어보세요\n",
        "\n",
        "- 파라미터 변경사항 작성\n",
        "- 결과 비교 작성\n",
        "- 이유 작성"
      ],
      "metadata": {
        "id": "vRZjy5geK-0J"
      },
      "id": "vRZjy5geK-0J"
    },
    {
      "cell_type": "code",
      "execution_count": null,
      "id": "bcffd088",
      "metadata": {
        "id": "bcffd088"
      },
      "outputs": [],
      "source": []
    }
  ],
  "metadata": {
    "colab": {
      "provenance": [],
      "include_colab_link": true
    },
    "kernelspec": {
      "display_name": "Python 3 (ipykernel)",
      "language": "python",
      "name": "python3"
    },
    "language_info": {
      "codemirror_mode": {
        "name": "ipython",
        "version": 3
      },
      "file_extension": ".py",
      "mimetype": "text/x-python",
      "name": "python",
      "nbconvert_exporter": "python",
      "pygments_lexer": "ipython3",
      "version": "3.9.7"
    }
  },
  "nbformat": 4,
  "nbformat_minor": 5
}